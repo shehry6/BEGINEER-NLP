{
  "nbformat": 4,
  "nbformat_minor": 0,
  "metadata": {
    "colab": {
      "provenance": [],
      "authorship_tag": "ABX9TyOgD4MhR9EJdIE9guYo8hKz",
      "include_colab_link": true
    },
    "kernelspec": {
      "name": "python3",
      "display_name": "Python 3"
    },
    "language_info": {
      "name": "python"
    }
  },
  "cells": [
    {
      "cell_type": "markdown",
      "metadata": {
        "id": "view-in-github",
        "colab_type": "text"
      },
      "source": [
        "<a href=\"https://colab.research.google.com/github/shehry6/BEGINEER-NLP/blob/main/Untitled44.ipynb\" target=\"_parent\"><img src=\"https://colab.research.google.com/assets/colab-badge.svg\" alt=\"Open In Colab\"/></a>"
      ]
    },
    {
      "cell_type": "markdown",
      "source": [
        "TEXT IN PREPROCESSING\n",
        "1---->   lower casing\n",
        "2---->   remove urls\n",
        "3---->   remove html tags\n",
        "4---->   removing punctuation"
      ],
      "metadata": {
        "id": "2HB2sNHDuIVY"
      }
    },
    {
      "cell_type": "code",
      "execution_count": 1,
      "metadata": {
        "id": "gvIrGksVuFjm"
      },
      "outputs": [],
      "source": [
        "# Sample dataset\n",
        "data = [\n",
        "    \"Heyyyy!!! How r u? 😊😊 Visit us at https://example.com.\",\n",
        "    \"<html>This is an <b>example</b> of HTML tags.</html>\",\n",
        "    \"Buy now!!! Limited time offer $$$, only at example.com!!\",\n",
        "    \"Python is coool!!! Isn't it??? 💻🔥\",\n",
        "    \"U r gr8!!! Meet me @ 6pm. #Excited\"\n",
        "]"
      ]
    },
    {
      "cell_type": "code",
      "source": [
        "data_lower = [text.lower()for text in data]\n",
        "print(data_lower)\n"
      ],
      "metadata": {
        "colab": {
          "base_uri": "https://localhost:8080/"
        },
        "id": "mbF-IBfKuhz-",
        "outputId": "89d840b1-95df-434e-9641-5a45b29680fb"
      },
      "execution_count": 2,
      "outputs": [
        {
          "output_type": "stream",
          "name": "stdout",
          "text": [
            "['heyyyy!!! how r u? 😊😊 visit us at https://example.com.', '<html>this is an <b>example</b> of html tags.</html>', 'buy now!!! limited time offer $$$, only at example.com!!', \"python is coool!!! isn't it??? 💻🔥\", 'u r gr8!!! meet me @ 6pm. #excited']\n"
          ]
        }
      ]
    },
    {
      "cell_type": "code",
      "source": [
        "import re\n",
        "\n",
        "data_no_html = [re.sub(r'<.*?>', '', text) for text in data_lower]\n",
        "print(data_no_html)\n"
      ],
      "metadata": {
        "colab": {
          "base_uri": "https://localhost:8080/"
        },
        "id": "AjZemqVcvO31",
        "outputId": "d64639f6-2dd3-4402-925f-2ce28bde95a4"
      },
      "execution_count": 3,
      "outputs": [
        {
          "output_type": "stream",
          "name": "stdout",
          "text": [
            "['heyyyy!!! how r u? 😊😊 visit us at https://example.com.', 'this is an example of html tags.', 'buy now!!! limited time offer $$$, only at example.com!!', \"python is coool!!! isn't it??? 💻🔥\", 'u r gr8!!! meet me @ 6pm. #excited']\n"
          ]
        }
      ]
    },
    {
      "cell_type": "code",
      "source": [
        "data_no_urls = [re.sub(r'http\\S+|www\\S+|example\\S+', '', text) for text in data_no_html]\n",
        "print(data_no_urls)\n"
      ],
      "metadata": {
        "colab": {
          "base_uri": "https://localhost:8080/"
        },
        "id": "nH9l86FHvf6h",
        "outputId": "4611f4fa-7f9e-444b-8a38-965afa5b03cf"
      },
      "execution_count": 4,
      "outputs": [
        {
          "output_type": "stream",
          "name": "stdout",
          "text": [
            "['heyyyy!!! how r u? 😊😊 visit us at ', 'this is an example of html tags.', 'buy now!!! limited time offer $$$, only at ', \"python is coool!!! isn't it??? 💻🔥\", 'u r gr8!!! meet me @ 6pm. #excited']\n"
          ]
        }
      ]
    },
    {
      "cell_type": "code",
      "source": [
        "import string\n",
        "string.punctuation"
      ],
      "metadata": {
        "colab": {
          "base_uri": "https://localhost:8080/",
          "height": 35
        },
        "id": "2KMfYcbQvufv",
        "outputId": "351fdde3-5353-4d6c-c375-e1ff756a7470"
      },
      "execution_count": 5,
      "outputs": [
        {
          "output_type": "execute_result",
          "data": {
            "text/plain": [
              "'!\"#$%&\\'()*+,-./:;<=>?@[\\\\]^_`{|}~'"
            ],
            "application/vnd.google.colaboratory.intrinsic+json": {
              "type": "string"
            }
          },
          "metadata": {},
          "execution_count": 5
        }
      ]
    },
    {
      "cell_type": "code",
      "source": [
        "import string\n",
        "\n",
        "data_no_punct = [re.sub(f\"[{string.punctuation}]\", \"\", text) for text in data_no_urls]\n",
        "print(data_no_punct)\n"
      ],
      "metadata": {
        "colab": {
          "base_uri": "https://localhost:8080/"
        },
        "id": "cuPYM6GbwBuv",
        "outputId": "f7d8cbdb-3d5b-4820-ff4a-dd91a5daaafb"
      },
      "execution_count": 6,
      "outputs": [
        {
          "output_type": "stream",
          "name": "stdout",
          "text": [
            "['heyyyy how r u 😊😊 visit us at ', 'this is an example of html tags', 'buy now limited time offer  only at ', 'python is coool isnt it 💻🔥', 'u r gr8 meet me  6pm excited']\n"
          ]
        }
      ]
    },
    {
      "cell_type": "code",
      "source": [
        " # chat word treatment\n",
        "def chat_conversion(text):\n",
        "    new_text = []\n",
        "    for w in text.split():\n",
        "        if w.upper() in chat_words:\n",
        "            new_text.append(chat_words[w.upper()])\n",
        "        else:\n",
        "            new_text.append(w)\n"
      ],
      "metadata": {
        "id": "FJZh94qbwWio"
      },
      "execution_count": 7,
      "outputs": []
    },
    {
      "cell_type": "code",
      "source": [
        "import nltk\n",
        "from nltk.corpus import stopwords\n",
        "nltk.download('punkt_tab')\n",
        "nltk.download('stopwords')\n",
        "stops = set(stopwords.words('english'))\n",
        "print(stops)\n",
        "len(stops)"
      ],
      "metadata": {
        "colab": {
          "base_uri": "https://localhost:8080/"
        },
        "id": "YyLNYV-uxuCT",
        "outputId": "d6289dae-fa1e-4e32-ec47-592d615c29ba"
      },
      "execution_count": 21,
      "outputs": [
        {
          "output_type": "stream",
          "name": "stderr",
          "text": [
            "[nltk_data] Downloading package punkt_tab to /root/nltk_data...\n",
            "[nltk_data]   Unzipping tokenizers/punkt_tab.zip.\n"
          ]
        },
        {
          "output_type": "stream",
          "name": "stdout",
          "text": [
            "{'can', 'wouldn', 'there', 'mustn', 'who', \"she's\", 'during', 'have', 'because', 'himself', 'how', 'y', 'whom', 's', 'here', 'so', \"mightn't\", 'further', 'through', 'very', 'myself', 'to', 'below', 'been', 'd', 'we', 'don', 'what', 'now', 'an', 'isn', 'but', 'had', 'doesn', \"you're\", 'with', 'ours', 'for', 'their', 'wasn', 'you', 'from', 'these', 'does', 'no', 'only', 'and', 'he', 'out', 'after', \"couldn't\", 'above', 'other', \"won't\", 'won', \"you've\", 'once', 'her', 're', 'into', 'most', 'do', \"don't\", 'that', \"isn't\", 'this', \"needn't\", 'weren', 'between', 'doing', 'any', 'our', 't', 'on', 'each', 'not', 'aren', 'am', 'be', 'in', 'mightn', 'too', 'shan', \"haven't\", \"hasn't\", 'your', 'the', \"should've\", 'hasn', \"it's\", 've', \"shan't\", 'same', 'are', 'those', 'if', 'both', 'nor', 'again', \"wasn't\", 'shouldn', 'against', 'she', 'haven', 'or', \"that'll\", 'being', 'more', 'ma', 'over', 'until', \"you'd\", 'yourself', 'as', 'before', 'then', \"shouldn't\", 'should', 'were', 'by', 'ain', 'it', 'has', 'hers', 'of', 'herself', 'having', 'will', 'about', \"you'll\", 'him', 'few', \"hadn't\", \"mustn't\", 'itself', \"weren't\", 'a', 'theirs', 'some', 'll', 'which', 'his', 'own', 'they', 'needn', 'than', 'me', 'them', 'at', 'yourselves', \"doesn't\", 'couldn', 'hadn', 'is', \"aren't\", 'under', 'yours', 'up', 'was', 'm', \"didn't\", 'o', 'off', 'while', 'all', 'where', \"wouldn't\", 'its', 'such', 'when', 'my', 'i', 'ourselves', 'did', 'just', 'themselves', 'didn', 'down', 'why'}\n"
          ]
        },
        {
          "output_type": "stream",
          "name": "stderr",
          "text": [
            "[nltk_data] Downloading package stopwords to /root/nltk_data...\n",
            "[nltk_data]   Package stopwords is already up-to-date!\n"
          ]
        },
        {
          "output_type": "execute_result",
          "data": {
            "text/plain": [
              "179"
            ]
          },
          "metadata": {},
          "execution_count": 21
        }
      ]
    },
    {
      "cell_type": "code",
      "source": [
        "from nltk.tokenize import sent_tokenize, word_tokenize\n",
        "from nltk.corpus import stopwords\n",
        "\n",
        "data = \"All work and no play makes jack dull boy. All work and no play makes jack a dull boy.\"\n",
        "stopWords = set(stopwords.words('english'))\n",
        "print(stopWords)\n",
        "words = word_tokenize(data)\n",
        "wordsFiltered = [w for w in words if w not in stopWords]\n",
        "\n",
        "print(wordsFiltered)"
      ],
      "metadata": {
        "colab": {
          "base_uri": "https://localhost:8080/"
        },
        "id": "LZQKE2mH0YdK",
        "outputId": "e585d848-37d7-41f0-8915-4ae49eafa2ab"
      },
      "execution_count": 23,
      "outputs": [
        {
          "output_type": "stream",
          "name": "stdout",
          "text": [
            "{'can', 'wouldn', 'there', 'mustn', 'who', \"she's\", 'during', 'have', 'because', 'himself', 'how', 'y', 'whom', 's', 'here', 'so', \"mightn't\", 'further', 'through', 'very', 'myself', 'to', 'below', 'been', 'd', 'we', 'don', 'what', 'now', 'an', 'isn', 'but', 'had', 'doesn', \"you're\", 'with', 'ours', 'for', 'their', 'wasn', 'you', 'from', 'these', 'does', 'no', 'only', 'and', 'he', 'out', 'after', \"couldn't\", 'above', 'other', \"won't\", 'won', \"you've\", 'once', 'her', 're', 'into', 'most', 'do', \"don't\", 'that', \"isn't\", 'this', \"needn't\", 'weren', 'between', 'doing', 'any', 'our', 't', 'on', 'each', 'not', 'aren', 'am', 'be', 'in', 'mightn', 'too', 'shan', \"haven't\", \"hasn't\", 'your', 'the', \"should've\", 'hasn', \"it's\", 've', \"shan't\", 'same', 'are', 'those', 'if', 'both', 'nor', 'again', \"wasn't\", 'shouldn', 'against', 'she', 'haven', 'or', \"that'll\", 'being', 'more', 'ma', 'over', 'until', \"you'd\", 'yourself', 'as', 'before', 'then', \"shouldn't\", 'should', 'were', 'by', 'ain', 'it', 'has', 'hers', 'of', 'herself', 'having', 'will', 'about', \"you'll\", 'him', 'few', \"hadn't\", \"mustn't\", 'itself', \"weren't\", 'a', 'theirs', 'some', 'll', 'which', 'his', 'own', 'they', 'needn', 'than', 'me', 'them', 'at', 'yourselves', \"doesn't\", 'couldn', 'hadn', 'is', \"aren't\", 'under', 'yours', 'up', 'was', 'm', \"didn't\", 'o', 'off', 'while', 'all', 'where', \"wouldn't\", 'its', 'such', 'when', 'my', 'i', 'ourselves', 'did', 'just', 'themselves', 'didn', 'down', 'why'}\n",
            "['All', 'work', 'play', 'makes', 'jack', 'dull', 'boy', '.', 'All', 'work', 'play', 'makes', 'jack', 'dull', 'boy', '.']\n"
          ]
        }
      ]
    },
    {
      "cell_type": "code",
      "source": [
        "lower_case = [text.lower() for text in wordsFiltered]\n",
        "print(lower_case)"
      ],
      "metadata": {
        "colab": {
          "base_uri": "https://localhost:8080/"
        },
        "id": "IuoWs4p13mHv",
        "outputId": "5d175081-6a37-43aa-cf90-c17e87a10138"
      },
      "execution_count": 25,
      "outputs": [
        {
          "output_type": "stream",
          "name": "stdout",
          "text": [
            "['all', 'work', 'play', 'makes', 'jack', 'dull', 'boy', '.', 'all', 'work', 'play', 'makes', 'jack', 'dull', 'boy', '.']\n"
          ]
        }
      ]
    },
    {
      "cell_type": "code",
      "source": [
        "# remove punctuaTION\n",
        "import string\n",
        "string.punctuation"
      ],
      "metadata": {
        "colab": {
          "base_uri": "https://localhost:8080/",
          "height": 35
        },
        "id": "2mjU3EQT4C0s",
        "outputId": "fd175ff3-000e-436d-ece5-425369e6994e"
      },
      "execution_count": 26,
      "outputs": [
        {
          "output_type": "execute_result",
          "data": {
            "text/plain": [
              "'!\"#$%&\\'()*+,-./:;<=>?@[\\\\]^_`{|}~'"
            ],
            "application/vnd.google.colaboratory.intrinsic+json": {
              "type": "string"
            }
          },
          "metadata": {},
          "execution_count": 26
        }
      ]
    },
    {
      "cell_type": "code",
      "source": [
        "# remove punctuation in lower_case\n",
        "no_punct = [w for w in lower_case if w not in string.punctuation]\n",
        "print(no_punct)"
      ],
      "metadata": {
        "colab": {
          "base_uri": "https://localhost:8080/"
        },
        "id": "oFoGWaaX4f__",
        "outputId": "6a6131a5-9967-4279-fca3-b1dc7a1e8392"
      },
      "execution_count": 27,
      "outputs": [
        {
          "output_type": "stream",
          "name": "stdout",
          "text": [
            "['all', 'work', 'play', 'makes', 'jack', 'dull', 'boy', 'all', 'work', 'play', 'makes', 'jack', 'dull', 'boy']\n"
          ]
        }
      ]
    }
  ]
}