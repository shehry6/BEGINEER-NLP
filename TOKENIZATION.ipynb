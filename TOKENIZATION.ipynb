{
  "nbformat": 4,
  "nbformat_minor": 0,
  "metadata": {
    "colab": {
      "provenance": [],
      "authorship_tag": "ABX9TyP1G5iRngqJD3IXr1ozNevy",
      "include_colab_link": true
    },
    "kernelspec": {
      "name": "python3",
      "display_name": "Python 3"
    },
    "language_info": {
      "name": "python"
    }
  },
  "cells": [
    {
      "cell_type": "markdown",
      "metadata": {
        "id": "view-in-github",
        "colab_type": "text"
      },
      "source": [
        "<a href=\"https://colab.research.google.com/github/shehry6/BEGINEER-NLP/blob/main/TOKENIZATION.ipynb\" target=\"_parent\"><img src=\"https://colab.research.google.com/assets/colab-badge.svg\" alt=\"Open In Colab\"/></a>"
      ]
    },
    {
      "cell_type": "markdown",
      "source": [
        "WHAT IS TOKENIZATION\n",
        "\n",
        "Tokenization in Natural Language Processing (NLP) is the process of breaking text into smaller units, or tokens, to make it easier for machines to understand"
      ],
      "metadata": {
        "id": "PEz5ckg1BmRQ"
      }
    },
    {
      "cell_type": "code",
      "source": [
        "corpus = \"\"\" Hi my name is shehroz khan.\n",
        "now i am pursue my career in machine! learning  engineer , and want to; be a data's scientist.\n",
        "and become a machine: learning engineer.\n",
        "\"\"\""
      ],
      "metadata": {
        "id": "8JbnOWlrBrup"
      },
      "execution_count": 31,
      "outputs": []
    },
    {
      "cell_type": "code",
      "source": [
        "import nltk\n",
        "nltk.download('punkt_tab')\n"
      ],
      "metadata": {
        "colab": {
          "base_uri": "https://localhost:8080/"
        },
        "id": "5R_H87PTCvMn",
        "outputId": "33c5b0cf-304c-420d-de2a-59060b013871"
      },
      "execution_count": 32,
      "outputs": [
        {
          "output_type": "stream",
          "name": "stderr",
          "text": [
            "[nltk_data] Downloading package punkt_tab to /root/nltk_data...\n",
            "[nltk_data]   Package punkt_tab is already up-to-date!\n"
          ]
        },
        {
          "output_type": "execute_result",
          "data": {
            "text/plain": [
              "True"
            ]
          },
          "metadata": {},
          "execution_count": 32
        }
      ]
    },
    {
      "cell_type": "code",
      "source": [
        "from nltk.tokenize import sent_tokenize"
      ],
      "metadata": {
        "id": "i9JmWV6qDU0e"
      },
      "execution_count": 33,
      "outputs": []
    },
    {
      "cell_type": "code",
      "source": [
        "tokenize = sent_tokenize(corpus)"
      ],
      "metadata": {
        "id": "Lc84YosxDXqT"
      },
      "execution_count": 34,
      "outputs": []
    },
    {
      "cell_type": "code",
      "source": [
        "tokenize"
      ],
      "metadata": {
        "colab": {
          "base_uri": "https://localhost:8080/"
        },
        "id": "pm02Ue7nDm8G",
        "outputId": "11641be0-3945-48b9-bf73-de9374870342"
      },
      "execution_count": 35,
      "outputs": [
        {
          "output_type": "execute_result",
          "data": {
            "text/plain": [
              "[' Hi my name is shehroz khan.',\n",
              " 'now i am pursue my career in machine!',\n",
              " \"learning  engineer , and want to; be a data's scientist.\",\n",
              " 'and become a machine: learning engineer.']"
            ]
          },
          "metadata": {},
          "execution_count": 35
        }
      ]
    },
    {
      "cell_type": "code",
      "source": [
        "from nltk.tokenize import word_tokenize\n",
        "word_tokenize(corpus)"
      ],
      "metadata": {
        "colab": {
          "base_uri": "https://localhost:8080/"
        },
        "id": "HqvZlEaeEDcp",
        "outputId": "fcf89f68-6e2a-4ee9-a192-8a6397b1edb4"
      },
      "execution_count": 36,
      "outputs": [
        {
          "output_type": "execute_result",
          "data": {
            "text/plain": [
              "['Hi',\n",
              " 'my',\n",
              " 'name',\n",
              " 'is',\n",
              " 'shehroz',\n",
              " 'khan',\n",
              " '.',\n",
              " 'now',\n",
              " 'i',\n",
              " 'am',\n",
              " 'pursue',\n",
              " 'my',\n",
              " 'career',\n",
              " 'in',\n",
              " 'machine',\n",
              " '!',\n",
              " 'learning',\n",
              " 'engineer',\n",
              " ',',\n",
              " 'and',\n",
              " 'want',\n",
              " 'to',\n",
              " ';',\n",
              " 'be',\n",
              " 'a',\n",
              " 'data',\n",
              " \"'s\",\n",
              " 'scientist',\n",
              " '.',\n",
              " 'and',\n",
              " 'become',\n",
              " 'a',\n",
              " 'machine',\n",
              " ':',\n",
              " 'learning',\n",
              " 'engineer',\n",
              " '.']"
            ]
          },
          "metadata": {},
          "execution_count": 36
        }
      ]
    },
    {
      "cell_type": "code",
      "source": [
        "from nltk.tokenize import wordpunct_tokenize\n",
        "wordpunct_tokenize(corpus)"
      ],
      "metadata": {
        "colab": {
          "base_uri": "https://localhost:8080/"
        },
        "id": "lfwuGUWFFW22",
        "outputId": "32e58568-9326-4b0f-e3eb-5aa3ec10a627"
      },
      "execution_count": 37,
      "outputs": [
        {
          "output_type": "execute_result",
          "data": {
            "text/plain": [
              "['Hi',\n",
              " 'my',\n",
              " 'name',\n",
              " 'is',\n",
              " 'shehroz',\n",
              " 'khan',\n",
              " '.',\n",
              " 'now',\n",
              " 'i',\n",
              " 'am',\n",
              " 'pursue',\n",
              " 'my',\n",
              " 'career',\n",
              " 'in',\n",
              " 'machine',\n",
              " '!',\n",
              " 'learning',\n",
              " 'engineer',\n",
              " ',',\n",
              " 'and',\n",
              " 'want',\n",
              " 'to',\n",
              " ';',\n",
              " 'be',\n",
              " 'a',\n",
              " 'data',\n",
              " \"'\",\n",
              " 's',\n",
              " 'scientist',\n",
              " '.',\n",
              " 'and',\n",
              " 'become',\n",
              " 'a',\n",
              " 'machine',\n",
              " ':',\n",
              " 'learning',\n",
              " 'engineer',\n",
              " '.']"
            ]
          },
          "metadata": {},
          "execution_count": 37
        }
      ]
    }
  ]
}